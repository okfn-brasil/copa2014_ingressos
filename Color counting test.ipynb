{
 "metadata": {
  "name": "",
  "signature": "sha256:a405f9fb1c58f233a6ead0e754fc071a3478cda690be19fec24f76aedb925b9f"
 },
 "nbformat": 3,
 "nbformat_minor": 0,
 "worksheets": [
  {
   "cells": [
    {
     "cell_type": "code",
     "collapsed": false,
     "input": [
      "from PIL import Image\n",
      "im = Image.open('sp.png')\n",
      "\n",
      "from collections import defaultdict\n",
      "\n",
      "by_color = defaultdict(int)\n",
      "for pixel in im.getdata():\n",
      "    by_color[pixel] += 1\n",
      "\n",
      "filter(lambda x: x[1] > 1000 and x[0] != (255,255,255), by_color.items())\n"
     ],
     "language": "python",
     "metadata": {},
     "outputs": [
      {
       "metadata": {},
       "output_type": "pyout",
       "prompt_number": 11,
       "text": [
        "[((209, 197, 204), 21495),\n",
        " ((57, 181, 74), 9590),\n",
        " ((73, 168, 71), 9931),\n",
        " ((15, 147, 71), 12085),\n",
        " ((226, 7, 135), 60666),\n",
        " ((143, 82, 161), 38070),\n",
        " ((246, 139, 31), 19532),\n",
        " ((35, 31, 32), 5778)]"
       ]
      }
     ],
     "prompt_number": 11
    },
    {
     "cell_type": "code",
     "collapsed": false,
     "input": [
      "cat1 = 60666\n",
      "cat2 = 38070\n",
      "cat3 = 19532\n",
      "cat4 = 9590\n",
      "\n",
      "total = cat1 + cat2 + cat3 + cat4"
     ],
     "language": "python",
     "metadata": {},
     "outputs": [],
     "prompt_number": 21
    },
    {
     "cell_type": "code",
     "collapsed": false,
     "input": [
      "float(cat1)/total"
     ],
     "language": "python",
     "metadata": {},
     "outputs": [
      {
       "metadata": {},
       "output_type": "pyout",
       "prompt_number": 22,
       "text": [
        "0.47447950069608474"
       ]
      }
     ],
     "prompt_number": 22
    },
    {
     "cell_type": "code",
     "collapsed": false,
     "input": [
      "float(cat2)/total"
     ],
     "language": "python",
     "metadata": {},
     "outputs": [
      {
       "metadata": {},
       "output_type": "pyout",
       "prompt_number": 23,
       "text": [
        "0.2977521938400413"
       ]
      }
     ],
     "prompt_number": 23
    },
    {
     "cell_type": "code",
     "collapsed": false,
     "input": [
      "float(cat3)/total"
     ],
     "language": "python",
     "metadata": {},
     "outputs": [
      {
       "metadata": {},
       "output_type": "pyout",
       "prompt_number": 24,
       "text": [
        "0.15276322169907242"
       ]
      }
     ],
     "prompt_number": 24
    },
    {
     "cell_type": "code",
     "collapsed": false,
     "input": [
      "float(cat4)/total"
     ],
     "language": "python",
     "metadata": {},
     "outputs": [
      {
       "metadata": {},
       "output_type": "pyout",
       "prompt_number": 25,
       "text": [
        "0.07500508376480158"
       ]
      }
     ],
     "prompt_number": 25
    },
    {
     "cell_type": "code",
     "collapsed": false,
     "input": [
      "0.47, 0.30, 0.15, 0.07"
     ],
     "language": "python",
     "metadata": {},
     "outputs": [
      {
       "metadata": {},
       "output_type": "pyout",
       "prompt_number": 26,
       "text": [
        "0.99"
       ]
      }
     ],
     "prompt_number": 26
    }
   ],
   "metadata": {}
  }
 ]
}