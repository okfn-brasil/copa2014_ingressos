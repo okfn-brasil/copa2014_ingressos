{
 "metadata": {
  "name": "",
  "signature": "sha256:346d37cd30ac85ba257d83ae153369dc33d5c905013e8ed88817910f02bfc033"
 },
 "nbformat": 3,
 "nbformat_minor": 0,
 "worksheets": [
  {
   "cells": [
    {
     "cell_type": "code",
     "collapsed": false,
     "input": [
      "import json\n",
      "import pandas as pd"
     ],
     "language": "python",
     "metadata": {},
     "outputs": [
      {
       "output_type": "stream",
       "stream": "stderr",
       "text": [
        "/home/walrus/.virtualenvs/py/local/lib/python2.7/site-packages/pandas/io/excel.py:626: UserWarning: Installed openpyxl is not supported at this time. Use >=1.6.1 and <2.0.0.\n",
        "  .format(openpyxl_compat.start_ver, openpyxl_compat.stop_ver))\n"
       ]
      }
     ],
     "prompt_number": 1
    },
    {
     "cell_type": "markdown",
     "metadata": {},
     "source": [
      "# A lista dos jogos\n",
      "\n",
      "Primeiro precisaremos da lista de jogos. O local mais f\u00e1cil que encontrei foi:\n",
      "\n",
      "http://www.kimonolabs.com/worldcup/docs#ListMatches\n",
      "\n",
      "Mas existem diversos outros locais pra obter isso. Neste site basta usar o comando:\n",
      "\n",
      "    curl --include --request GET \"http://worldcup.kimonolabs.com/api/matches?apikey=API_KEY\" > games.json\n",
      "    \n",
      "Substituindo API_KEY pela chave que o chave oferece gratuitamente ap\u00f3s criar uma conta. Baixado o arquivo, abra-o num editor e remova todo conte\u00fado que n\u00e3o faz parte do json, ou seja, todo conte\u00fado que vem antes do primeiro '[{'.\n",
      "\n",
      "Agora carregamos o json para um dicion\u00e1rio do Python usando a biblioteca json:"
     ]
    },
    {
     "cell_type": "code",
     "collapsed": false,
     "input": [
      "games_file = open('games.json')\n",
      "gjs = json.load(games_file)"
     ],
     "language": "python",
     "metadata": {},
     "outputs": [],
     "prompt_number": 2
    },
    {
     "cell_type": "markdown",
     "metadata": {},
     "source": [
      "Criamos um dicion\u00e1rio a partir desse dicion\u00e1rio indexado pelo nome do est\u00e1dio (_game['venue']_) e salvamos quando o jogo ocorreu (_game['startTime']_) caso queiramos filtrar os jogos at\u00e9 um determinado momento."
     ]
    },
    {
     "cell_type": "code",
     "collapsed": false,
     "input": [
      "hist_games = {}\n",
      "for game in gjs:\n",
      "    if not hist_games.has_key(game['venue']):\n",
      "        hist_games[game['venue']] = []\n",
      "    hist_games[game['venue']] += [game['startTime']]"
     ],
     "language": "python",
     "metadata": {},
     "outputs": [],
     "prompt_number": 3
    },
    {
     "cell_type": "markdown",
     "metadata": {},
     "source": [
      "# N\u00famero de jogos por est\u00e1dio"
     ]
    },
    {
     "cell_type": "code",
     "collapsed": false,
     "input": [
      "estadio_games_num = {e: len(gs) for e, gs in hist_games.items()}"
     ],
     "language": "python",
     "metadata": {},
     "outputs": [],
     "prompt_number": 4
    },
    {
     "cell_type": "code",
     "collapsed": false,
     "input": [
      "estadio_games_num"
     ],
     "language": "python",
     "metadata": {},
     "outputs": [
      {
       "metadata": {},
       "output_type": "pyout",
       "prompt_number": 5,
       "text": [
        "{u'Arena Amaz\\xf4nia (Manaus, Amazonas)': 4,\n",
        " u'Arena Corinthians (S\\xe3o Paulo, S\\xe3o Paulo)': 4,\n",
        " u'Arena Pantanal (Cuiab\\xe1, Mato Grosso)': 4,\n",
        " u'Arena das Dunas (Natal, Rio Grande do Norte)': 4,\n",
        " u'Estadio Jornalista M\\xe1rio Filho (Maracan\\xe3) (Rio de Janeiro, Rio de Janeiro)': 5,\n",
        " u'Est\\xe1dio Governador Magalh\\xe3es Pinto (Belo Horizonte, Minas Gerais)': 5,\n",
        " u'Est\\xe1dio Governador Pl\\xe1cido Aderaldo Castelo (Fortaleza, Cear\\xe1)': 5,\n",
        " u'Est\\xe1dio Joaquim Am\\xe9rico Guimar\\xe3es (Curitiba, Paran\\xe1)': 4,\n",
        " u'Est\\xe1dio Jos\\xe9 Pinheiro Borba (Beira-Rio) (Porto Alegre, Rio Grande do Sul)': 4,\n",
        " u'Est\\xe1dio Nacional de Bras\\xedlia (Bras\\xedlia, Distrito Federal)': 4,\n",
        " u'Itaipava Arena Fonte Nova (Salvador, Bahia)': 4,\n",
        " u'Itaipava Arena Pernambuco (Recife, Pernambuco)': 5}"
       ]
      }
     ],
     "prompt_number": 5
    },
    {
     "cell_type": "markdown",
     "metadata": {},
     "source": [
      "Os n\u00fameros acima est\u00e3o incorretos, por outras fontes vimos que os valores corretos s\u00e3o:"
     ]
    },
    {
     "cell_type": "code",
     "collapsed": false,
     "input": [
      "estadio_games_num[u'Est\\xe1dio Governador Magalh\\xe3es Pinto (Belo Horizonte, Minas Gerais)'] = 6\n",
      "estadio_games_num[u'Est\\xe1dio Nacional de Bras\\xedlia (Bras\\xedlia, Distrito Federal)'] = 7\n",
      "estadio_games_num[u'Est\\xe1dio Governador Pl\\xe1cido Aderaldo Castelo (Fortaleza, Cear\\xe1)'] = 6\n",
      "estadio_games_num[u'Est\\xe1dio Jos\\xe9 Pinheiro Borba (Beira-Rio) (Porto Alegre, Rio Grande do Sul)'] = 5\n",
      "estadio_games_num[u'Estadio Jornalista M\\xe1rio Filho (Maracan\\xe3) (Rio de Janeiro, Rio de Janeiro)'] = 7\n",
      "estadio_games_num[u'Itaipava Arena Fonte Nova (Salvador, Bahia)'] = 6\n",
      "estadio_games_num[u'Arena Corinthians (S\\xe3o Paulo, S\\xe3o Paulo)'] = 6"
     ],
     "language": "python",
     "metadata": {},
     "outputs": [],
     "prompt_number": 8
    },
    {
     "cell_type": "markdown",
     "metadata": {},
     "source": [
      "# Total de partidas"
     ]
    },
    {
     "cell_type": "code",
     "collapsed": false,
     "input": [
      "sum(estadio_games_num.values())"
     ],
     "language": "python",
     "metadata": {},
     "outputs": [
      {
       "metadata": {},
       "output_type": "pyout",
       "prompt_number": 7,
       "text": [
        "64"
       ]
      }
     ],
     "prompt_number": 7
    },
    {
     "cell_type": "markdown",
     "metadata": {},
     "source": [
      "# Capacidade de pessoas por est\u00e1dio"
     ]
    },
    {
     "cell_type": "code",
     "collapsed": false,
     "input": [
      "estadio_capacidade = {u'Arena Amaz\\xf4nia (Manaus, Amazonas)': 44351\n",
      "                     ,u'Arena Corinthians (S\\xe3o Paulo, S\\xe3o Paulo)': 67349\n",
      "                     ,u'Arena Pantanal (Cuiab\\xe1, Mato Grosso)': 44335\n",
      "                     ,u'Arena das Dunas (Natal, Rio Grande do Norte)': 44070\n",
      "                     ,u'Estadio Jornalista M\\xe1rio Filho (Maracan\\xe3) (Rio de Janeiro, Rio de Janeiro)': 78448\n",
      "                     ,u'Est\\xe1dio Governador Magalh\\xe3es Pinto (Belo Horizonte, Minas Gerais)': 62329\n",
      "                     ,u'Est\\xe1dio Governador Pl\\xe1cido Aderaldo Castelo (Fortaleza, Cear\\xe1)': 63819\n",
      "                     ,u'Est\\xe1dio Joaquim Am\\xe9rico Guimar\\xe3es (Curitiba, Paran\\xe1)': 42247\n",
      "                     ,u'Est\\xe1dio Jos\\xe9 Pinheiro Borba (Beira-Rio) (Porto Alegre, Rio Grande do Sul)': 47100\n",
      "                     ,u'Est\\xe1dio Nacional de Bras\\xedlia (Bras\\xedlia, Distrito Federal)': 72741\n",
      "                     ,u'Itaipava Arena Fonte Nova (Salvador, Bahia)': 54610\n",
      "                     ,u'Itaipava Arena Pernambuco (Recife, Pernambuco)': 45425\n",
      "                     }"
     ],
     "language": "python",
     "metadata": {},
     "outputs": [],
     "prompt_number": 9
    },
    {
     "cell_type": "markdown",
     "metadata": {},
     "source": [
      "# Total de pessoas que poder\u00e3o ir com um ingresso na copa"
     ]
    },
    {
     "cell_type": "code",
     "collapsed": false,
     "input": [
      "sum([estadio_capacidade[estadio]*num_jogos for estadio, num_jogos in estadio_games_num.items()])"
     ],
     "language": "python",
     "metadata": {},
     "outputs": [
      {
       "metadata": {},
       "output_type": "pyout",
       "prompt_number": 10,
       "text": [
        "3709602"
       ]
      }
     ],
     "prompt_number": 10
    },
    {
     "cell_type": "markdown",
     "metadata": {},
     "source": [
      "# Pre\u00e7o por categoria\n",
      "\n",
      "Copiei e colei do pr\u00f3prio site da FIFA os pre\u00e7os por categoria:\n",
      "\n",
      "http://pt.fifa.com/worldcup/organisation/ticketing/prices-matches/\n",
      "\n",
      "    Partida\tCAT 1\tCAT 2,\tCAT 3\tCAT 4\tCAT 4 (Descontados)\tINGRESSOS PARA PESSOAS COM DEFICI\u00caNCIA\n",
      "    Partida de abertura (N\u00b01)\tR$ 990\tR$ 660\tR$ 440\tR$ 160\tR$ 80\tR$ 440\n",
      "    Fase de grupos (N\u00b02 a 48)\tR$ 350\tR$ 270\tR$ 180\tR$ 60\tR$ 30\tR$ 180\n",
      "    Oitavas de final (N\u00b049 a 56)\tR$ 440\tR$ 330\tR$ 220\tR$ 110\tR$ 55\tR$ 220\n",
      "    Quartas de final (N\u00b057 a 60)\tR$ 660\tR$ 440\tR$ 330\tR$ 170\tR$ 85\tR$ 330\n",
      "    Semifinais (N\u00b061 e 62)\tR$ 1,320\tR$ 880\tR$ 550\tR$ 220\tR$ 110\tR$ 550\n",
      "    Decis\u00e3o do terceiro lugar (N\u00b063)\tR$ 660\tR$ 440\tR$ 330\tR$ 170\tR$ 85\tR$ 330\n",
      "    Final (N\u00b0 64)\tR$ 1,980\tR$ 1,320\tR$ 880\tR$ 330\tR$ 165\tR$ 880\n",
      "\n",
      "E depois salvei isso num arquivo tsv (an\u00e1logo ao csv, mas ao inv\u00e9s das colunas estarem separadas por ',' (comma) est\u00e3o por tabs)"
     ]
    },
    {
     "cell_type": "code",
     "collapsed": false,
     "input": [
      "%%writefile preco.tsv\n",
      "Partida\tCAT 1\tCAT 2\tCAT 3\tCAT 4\tCAT 4 (Descontados)\tINGRESSOS PARA PESSOAS COM DEFICI\u00caNCIA\n",
      "Partida de abertura (N\u00b01)\tR$ 990\tR$ 660\tR$ 440\tR$ 160\tR$ 80\tR$ 440\n",
      "Fase de grupos (N\u00b02 a 48)\tR$ 350\tR$ 270\tR$ 180\tR$ 60\tR$ 30\tR$ 180\n",
      "Oitavas de final (N\u00b049 a 56)\tR$ 440\tR$ 330\tR$ 220\tR$ 110\tR$ 55\tR$ 220\n",
      "Quartas de final (N\u00b057 a 60)\tR$ 660\tR$ 440\tR$ 330\tR$ 170\tR$ 85\tR$ 330\n",
      "Semifinais (N\u00b061 e 62)\tR$ 1,320\tR$ 880\tR$ 550\tR$ 220\tR$ 110\tR$ 550\n",
      "Decis\u00e3o do terceiro lugar (N\u00b063)\tR$ 660\tR$ 440\tR$ 330\tR$ 170\tR$ 85\tR$ 330\n",
      "Final (N\u00b0 64)\tR$ 1,980\tR$ 1,320\tR$ 880\tR$ 330\tR$ 165\tR$ 880"
     ],
     "language": "python",
     "metadata": {},
     "outputs": [
      {
       "output_type": "stream",
       "stream": "stdout",
       "text": [
        "Overwriting preco.tsv\n"
       ]
      }
     ],
     "prompt_number": 11
    },
    {
     "cell_type": "code",
     "collapsed": false,
     "input": [
      "!cat preco.tsv"
     ],
     "language": "python",
     "metadata": {},
     "outputs": [
      {
       "output_type": "stream",
       "stream": "stdout",
       "text": [
        "Partida\tCAT 1\tCAT 2\tCAT 3\tCAT 4\tCAT 4 (Descontados)\tINGRESSOS PARA PESSOAS COM DEFICI\u00caNCIA\r\n",
        "Partida de abertura (N\u00b01)\tR$ 990\tR$ 660\tR$ 440\tR$ 160\tR$ 80\tR$ 440\r\n",
        "Fase de grupos (N\u00b02 a 48)\tR$ 350\tR$ 270\tR$ 180\tR$ 60\tR$ 30\tR$ 180\r\n",
        "Oitavas de final (N\u00b049 a 56)\tR$ 440\tR$ 330\tR$ 220\tR$ 110\tR$ 55\tR$ 220\r\n",
        "Quartas de final (N\u00b057 a 60)\tR$ 660\tR$ 440\tR$ 330\tR$ 170\tR$ 85\tR$ 330\r\n",
        "Semifinais (N\u00b061 e 62)\tR$ 1,320\tR$ 880\tR$ 550\tR$ 220\tR$ 110\tR$ 550\r\n",
        "Decis\u00e3o do terceiro lugar (N\u00b063)\tR$ 660\tR$ 440\tR$ 330\tR$ 170\tR$ 85\tR$ 330\r\n",
        "Final (N\u00b0 64)\tR$ 1,980\tR$ 1,320\tR$ 880\tR$ 330\tR$ 165\tR$ 880"
       ]
      }
     ],
     "prompt_number": 12
    },
    {
     "cell_type": "code",
     "collapsed": false,
     "input": [
      "precos = pd.read_csv('preco.tsv', sep='\\t')\n",
      "precos"
     ],
     "language": "python",
     "metadata": {},
     "outputs": [
      {
       "html": [
        "<div style=\"max-height:1000px;max-width:1500px;overflow:auto;\">\n",
        "<table border=\"1\" class=\"dataframe\">\n",
        "  <thead>\n",
        "    <tr style=\"text-align: right;\">\n",
        "      <th></th>\n",
        "      <th>Partida</th>\n",
        "      <th>CAT 1</th>\n",
        "      <th>CAT 2</th>\n",
        "      <th>CAT 3</th>\n",
        "      <th>CAT 4</th>\n",
        "      <th>CAT 4 (Descontados)</th>\n",
        "      <th>INGRESSOS PARA PESSOAS COM DEFICI\u00caNCIA</th>\n",
        "    </tr>\n",
        "  </thead>\n",
        "  <tbody>\n",
        "    <tr>\n",
        "      <th>0</th>\n",
        "      <td>        Partida de abertura (N\u00b01)</td>\n",
        "      <td>   R$ 990</td>\n",
        "      <td>   R$ 660</td>\n",
        "      <td> R$ 440</td>\n",
        "      <td> R$ 160</td>\n",
        "      <td>  R$ 80</td>\n",
        "      <td> R$ 440</td>\n",
        "    </tr>\n",
        "    <tr>\n",
        "      <th>1</th>\n",
        "      <td>        Fase de grupos (N\u00b02 a 48)</td>\n",
        "      <td>   R$ 350</td>\n",
        "      <td>   R$ 270</td>\n",
        "      <td> R$ 180</td>\n",
        "      <td>  R$ 60</td>\n",
        "      <td>  R$ 30</td>\n",
        "      <td> R$ 180</td>\n",
        "    </tr>\n",
        "    <tr>\n",
        "      <th>2</th>\n",
        "      <td>     Oitavas de final (N\u00b049 a 56)</td>\n",
        "      <td>   R$ 440</td>\n",
        "      <td>   R$ 330</td>\n",
        "      <td> R$ 220</td>\n",
        "      <td> R$ 110</td>\n",
        "      <td>  R$ 55</td>\n",
        "      <td> R$ 220</td>\n",
        "    </tr>\n",
        "    <tr>\n",
        "      <th>3</th>\n",
        "      <td>     Quartas de final (N\u00b057 a 60)</td>\n",
        "      <td>   R$ 660</td>\n",
        "      <td>   R$ 440</td>\n",
        "      <td> R$ 330</td>\n",
        "      <td> R$ 170</td>\n",
        "      <td>  R$ 85</td>\n",
        "      <td> R$ 330</td>\n",
        "    </tr>\n",
        "    <tr>\n",
        "      <th>4</th>\n",
        "      <td>           Semifinais (N\u00b061 e 62)</td>\n",
        "      <td> R$ 1,320</td>\n",
        "      <td>   R$ 880</td>\n",
        "      <td> R$ 550</td>\n",
        "      <td> R$ 220</td>\n",
        "      <td> R$ 110</td>\n",
        "      <td> R$ 550</td>\n",
        "    </tr>\n",
        "    <tr>\n",
        "      <th>5</th>\n",
        "      <td> Decis\u00e3o do terceiro lugar (N\u00b063)</td>\n",
        "      <td>   R$ 660</td>\n",
        "      <td>   R$ 440</td>\n",
        "      <td> R$ 330</td>\n",
        "      <td> R$ 170</td>\n",
        "      <td>  R$ 85</td>\n",
        "      <td> R$ 330</td>\n",
        "    </tr>\n",
        "    <tr>\n",
        "      <th>6</th>\n",
        "      <td>                    Final (N\u00b0 64)</td>\n",
        "      <td> R$ 1,980</td>\n",
        "      <td> R$ 1,320</td>\n",
        "      <td> R$ 880</td>\n",
        "      <td> R$ 330</td>\n",
        "      <td> R$ 165</td>\n",
        "      <td> R$ 880</td>\n",
        "    </tr>\n",
        "  </tbody>\n",
        "</table>\n",
        "</div>"
       ],
       "metadata": {},
       "output_type": "pyout",
       "prompt_number": 39,
       "text": [
        "                            Partida     CAT 1     CAT 2   CAT 3   CAT 4  \\\n",
        "0         Partida de abertura (N\u00b01)    R$ 990    R$ 660  R$ 440  R$ 160   \n",
        "1         Fase de grupos (N\u00b02 a 48)    R$ 350    R$ 270  R$ 180   R$ 60   \n",
        "2      Oitavas de final (N\u00b049 a 56)    R$ 440    R$ 330  R$ 220  R$ 110   \n",
        "3      Quartas de final (N\u00b057 a 60)    R$ 660    R$ 440  R$ 330  R$ 170   \n",
        "4            Semifinais (N\u00b061 e 62)  R$ 1,320    R$ 880  R$ 550  R$ 220   \n",
        "5  Decis\u00e3o do terceiro lugar (N\u00b063)    R$ 660    R$ 440  R$ 330  R$ 170   \n",
        "6                     Final (N\u00b0 64)  R$ 1,980  R$ 1,320  R$ 880  R$ 330   \n",
        "\n",
        "  CAT 4 (Descontados) INGRESSOS PARA PESSOAS COM DEFICI\u00caNCIA  \n",
        "0               R$ 80                                 R$ 440  \n",
        "1               R$ 30                                 R$ 180  \n",
        "2               R$ 55                                 R$ 220  \n",
        "3               R$ 85                                 R$ 330  \n",
        "4              R$ 110                                 R$ 550  \n",
        "5               R$ 85                                 R$ 330  \n",
        "6              R$ 165                                 R$ 880  "
       ]
      }
     ],
     "prompt_number": 39
    },
    {
     "cell_type": "code",
     "collapsed": false,
     "input": [
      "for categoria in precos.columns[1:7]:\n",
      "    precos[categoria] = precos[categoria].map(lambda x: float(x[3:].replace(',','')))\n",
      "\n",
      "precos"
     ],
     "language": "python",
     "metadata": {},
     "outputs": [
      {
       "html": [
        "<div style=\"max-height:1000px;max-width:1500px;overflow:auto;\">\n",
        "<table border=\"1\" class=\"dataframe\">\n",
        "  <thead>\n",
        "    <tr style=\"text-align: right;\">\n",
        "      <th></th>\n",
        "      <th>Partida</th>\n",
        "      <th>CAT 1</th>\n",
        "      <th>CAT 2</th>\n",
        "      <th>CAT 3</th>\n",
        "      <th>CAT 4</th>\n",
        "      <th>CAT 4 (Descontados)</th>\n",
        "      <th>INGRESSOS PARA PESSOAS COM DEFICI\u00caNCIA</th>\n",
        "    </tr>\n",
        "  </thead>\n",
        "  <tbody>\n",
        "    <tr>\n",
        "      <th>0</th>\n",
        "      <td>        Partida de abertura (N\u00b01)</td>\n",
        "      <td>  990</td>\n",
        "      <td>  660</td>\n",
        "      <td> 440</td>\n",
        "      <td> 160</td>\n",
        "      <td>  80</td>\n",
        "      <td> 440</td>\n",
        "    </tr>\n",
        "    <tr>\n",
        "      <th>1</th>\n",
        "      <td>        Fase de grupos (N\u00b02 a 48)</td>\n",
        "      <td>  350</td>\n",
        "      <td>  270</td>\n",
        "      <td> 180</td>\n",
        "      <td>  60</td>\n",
        "      <td>  30</td>\n",
        "      <td> 180</td>\n",
        "    </tr>\n",
        "    <tr>\n",
        "      <th>2</th>\n",
        "      <td>     Oitavas de final (N\u00b049 a 56)</td>\n",
        "      <td>  440</td>\n",
        "      <td>  330</td>\n",
        "      <td> 220</td>\n",
        "      <td> 110</td>\n",
        "      <td>  55</td>\n",
        "      <td> 220</td>\n",
        "    </tr>\n",
        "    <tr>\n",
        "      <th>3</th>\n",
        "      <td>     Quartas de final (N\u00b057 a 60)</td>\n",
        "      <td>  660</td>\n",
        "      <td>  440</td>\n",
        "      <td> 330</td>\n",
        "      <td> 170</td>\n",
        "      <td>  85</td>\n",
        "      <td> 330</td>\n",
        "    </tr>\n",
        "    <tr>\n",
        "      <th>4</th>\n",
        "      <td>           Semifinais (N\u00b061 e 62)</td>\n",
        "      <td> 1320</td>\n",
        "      <td>  880</td>\n",
        "      <td> 550</td>\n",
        "      <td> 220</td>\n",
        "      <td> 110</td>\n",
        "      <td> 550</td>\n",
        "    </tr>\n",
        "    <tr>\n",
        "      <th>5</th>\n",
        "      <td> Decis\u00e3o do terceiro lugar (N\u00b063)</td>\n",
        "      <td>  660</td>\n",
        "      <td>  440</td>\n",
        "      <td> 330</td>\n",
        "      <td> 170</td>\n",
        "      <td>  85</td>\n",
        "      <td> 330</td>\n",
        "    </tr>\n",
        "    <tr>\n",
        "      <th>6</th>\n",
        "      <td>                    Final (N\u00b0 64)</td>\n",
        "      <td> 1980</td>\n",
        "      <td> 1320</td>\n",
        "      <td> 880</td>\n",
        "      <td> 330</td>\n",
        "      <td> 165</td>\n",
        "      <td> 880</td>\n",
        "    </tr>\n",
        "  </tbody>\n",
        "</table>\n",
        "</div>"
       ],
       "metadata": {},
       "output_type": "pyout",
       "prompt_number": 40,
       "text": [
        "                            Partida  CAT 1  CAT 2  CAT 3  CAT 4  \\\n",
        "0         Partida de abertura (N\u00b01)    990    660    440    160   \n",
        "1         Fase de grupos (N\u00b02 a 48)    350    270    180     60   \n",
        "2      Oitavas de final (N\u00b049 a 56)    440    330    220    110   \n",
        "3      Quartas de final (N\u00b057 a 60)    660    440    330    170   \n",
        "4            Semifinais (N\u00b061 e 62)   1320    880    550    220   \n",
        "5  Decis\u00e3o do terceiro lugar (N\u00b063)    660    440    330    170   \n",
        "6                     Final (N\u00b0 64)   1980   1320    880    330   \n",
        "\n",
        "   CAT 4 (Descontados)  INGRESSOS PARA PESSOAS COM DEFICI\u00caNCIA  \n",
        "0                   80                                     440  \n",
        "1                   30                                     180  \n",
        "2                   55                                     220  \n",
        "3                   85                                     330  \n",
        "4                  110                                     550  \n",
        "5                   85                                     330  \n",
        "6                  165                                     880  "
       ]
      }
     ],
     "prompt_number": 40
    },
    {
     "cell_type": "code",
     "collapsed": false,
     "input": [
      "precos.to_csv('precos.csv', index=False)\n",
      "!cat precos.csv"
     ],
     "language": "python",
     "metadata": {},
     "outputs": [
      {
       "output_type": "stream",
       "stream": "stdout",
       "text": [
        "Partida,CAT 1,CAT 2,CAT 3,CAT 4,CAT 4 (Descontados),INGRESSOS PARA PESSOAS COM DEFICI\u00caNCIA\r\n",
        "Partida de abertura (N\u00b01),990.0,660.0,440.0,160.0,80.0,440.0\r\n",
        "Fase de grupos (N\u00b02 a 48),350.0,270.0,180.0,60.0,30.0,180.0\r\n",
        "Oitavas de final (N\u00b049 a 56),440.0,330.0,220.0,110.0,55.0,220.0\r\n",
        "Quartas de final (N\u00b057 a 60),660.0,440.0,330.0,170.0,85.0,330.0\r\n",
        "Semifinais (N\u00b061 e 62),1320.0,880.0,550.0,220.0,110.0,550.0\r\n",
        "Decis\u00e3o do terceiro lugar (N\u00b063),660.0,440.0,330.0,170.0,85.0,330.0\r\n",
        "Final (N\u00b0 64),1980.0,1320.0,880.0,330.0,165.0,880.0\r\n"
       ]
      }
     ],
     "prompt_number": 45
    },
    {
     "cell_type": "markdown",
     "metadata": {},
     "source": [
      "# Gr\u00e1fico do total por cidade"
     ]
    },
    {
     "cell_type": "code",
     "collapsed": false,
     "input": [
      "l = np.array([[estadio, estadio_capacidade[estadio]*num_jogos] for estadio, num_jogos in estadio_games_num.items()])"
     ],
     "language": "python",
     "metadata": {},
     "outputs": [],
     "prompt_number": 41
    },
    {
     "cell_type": "code",
     "collapsed": false,
     "input": [
      "bar(range(l.shape[0]),map(float, l[:,1]))"
     ],
     "language": "python",
     "metadata": {},
     "outputs": [
      {
       "metadata": {},
       "output_type": "pyout",
       "prompt_number": 42,
       "text": [
        "<Container object of 12 artists>"
       ]
      },
      {
       "metadata": {},
       "output_type": "display_data",
       "png": "[encoded data removed]",
       "text": [
        "<matplotlib.figure.Figure at 0x59233d0>"
       ]
      }
     ],
     "prompt_number": 42
    },
    {
     "cell_type": "code",
     "collapsed": false,
     "input": [
      "%%writefile tabela.tsv\n",
      "CIDADE \tEST\u00c1DIO \tCAPACIDADE \tJOGOS \tCUSTO FINAL \tBNDES \tP\u00daBLICO ESTADUAIS\n",
      "Belo Horizonte \tMineir\u00e3o \t62.329 \t6 \t666,3 milh\u00f5es \t400.000.000 \t6.451\n",
      "Bras\u00edlia \tMan\u00e9 Garrincha \t72.741 \t7 \t1,4 bilh\u00e3o \t0 \t1.176\n",
      "Cuiab\u00e1 \tArena Pantanal \t44.335 \t4 \t570 milh\u00f5es \t337.900.362 \t605\n",
      "Curitiba \tArena da Baixada \t42.247 \t4 \t326,7 milh\u00f5es \t131.168.000 \t3.002\n",
      "Fortaleza \tCastel\u00e3o \t63.819 \t6 \t518,6 milh\u00f5es \t351.545.150 \t2.005\n",
      "Manaus \tArena Amaz\u00f4nia \t44.351 \t4 \t757 milh\u00f5es \t400.000.000 \t807\n",
      "Natal \tArena das Dunas \t44.070 \t4 \t400 milh\u00f5es \t396.571.000 \t958\n",
      "Porto Alegre \tBeira-Rio \t47.100 \t5 \t330 milh\u00f5es \t91.700.000 \t2.219\n",
      "Recife \tArena Pernambuco \t45.425 \t5 \t532,6 milh\u00f5es \t400.000.000 \t5.339\n",
      "Rio de Janeiro \tMaracan\u00e3 \t78.448 \t7 \t1,05 bilh\u00e3o \t400.000.000 \t2.422\n",
      "Salvador \tArena Fonte Nova \t54.610 \t6 \t689,4 milh\u00f5es \t323.629.000 \t3.155\n",
      "S\u00e3o Paulo \tArena Corinthians \t67.349 \t6 \t930 milh\u00f5es \t400.000.000 \t6.217"
     ],
     "language": "python",
     "metadata": {},
     "outputs": [
      {
       "output_type": "stream",
       "stream": "stdout",
       "text": [
        "Writing tabela.tsv\n"
       ]
      }
     ],
     "prompt_number": 47
    },
    {
     "cell_type": "code",
     "collapsed": false,
     "input": [
      "dados_gerais = pd.read_csv('tabela.tsv', sep='\\t')\n",
      "dados_gerais"
     ],
     "language": "python",
     "metadata": {},
     "outputs": [
      {
       "html": [
        "<div style=\"max-height:1000px;max-width:1500px;overflow:auto;\">\n",
        "<table border=\"1\" class=\"dataframe\">\n",
        "  <thead>\n",
        "    <tr style=\"text-align: right;\">\n",
        "      <th></th>\n",
        "      <th>CIDADE </th>\n",
        "      <th>EST\u00c1DIO </th>\n",
        "      <th>CAPACIDADE </th>\n",
        "      <th>JOGOS </th>\n",
        "      <th>CUSTO FINAL </th>\n",
        "      <th>BNDES </th>\n",
        "      <th>P\u00daBLICO ESTADUAIS</th>\n",
        "    </tr>\n",
        "  </thead>\n",
        "  <tbody>\n",
        "    <tr>\n",
        "      <th>0 </th>\n",
        "      <td> Belo Horizonte </td>\n",
        "      <td>          Mineir\u00e3o </td>\n",
        "      <td> 62.329</td>\n",
        "      <td> 6</td>\n",
        "      <td> 666,3 milh\u00f5es </td>\n",
        "      <td> 400.000.000 </td>\n",
        "      <td>   6.451</td>\n",
        "    </tr>\n",
        "    <tr>\n",
        "      <th>1 </th>\n",
        "      <td>       Bras\u00edlia </td>\n",
        "      <td>    Man\u00e9 Garrincha </td>\n",
        "      <td> 72.741</td>\n",
        "      <td> 7</td>\n",
        "      <td>    1,4 bilh\u00e3o </td>\n",
        "      <td>           0 </td>\n",
        "      <td>   1.176</td>\n",
        "    </tr>\n",
        "    <tr>\n",
        "      <th>2 </th>\n",
        "      <td>         Cuiab\u00e1 </td>\n",
        "      <td>    Arena Pantanal </td>\n",
        "      <td> 44.335</td>\n",
        "      <td> 4</td>\n",
        "      <td>   570 milh\u00f5es </td>\n",
        "      <td> 337.900.362 </td>\n",
        "      <td> 605.000</td>\n",
        "    </tr>\n",
        "    <tr>\n",
        "      <th>3 </th>\n",
        "      <td>       Curitiba </td>\n",
        "      <td>  Arena da Baixada </td>\n",
        "      <td> 42.247</td>\n",
        "      <td> 4</td>\n",
        "      <td> 326,7 milh\u00f5es </td>\n",
        "      <td> 131.168.000 </td>\n",
        "      <td>   3.002</td>\n",
        "    </tr>\n",
        "    <tr>\n",
        "      <th>4 </th>\n",
        "      <td>      Fortaleza </td>\n",
        "      <td>          Castel\u00e3o </td>\n",
        "      <td> 63.819</td>\n",
        "      <td> 6</td>\n",
        "      <td> 518,6 milh\u00f5es </td>\n",
        "      <td> 351.545.150 </td>\n",
        "      <td>   2.005</td>\n",
        "    </tr>\n",
        "    <tr>\n",
        "      <th>5 </th>\n",
        "      <td>         Manaus </td>\n",
        "      <td>    Arena Amaz\u00f4nia </td>\n",
        "      <td> 44.351</td>\n",
        "      <td> 4</td>\n",
        "      <td>   757 milh\u00f5es </td>\n",
        "      <td> 400.000.000 </td>\n",
        "      <td> 807.000</td>\n",
        "    </tr>\n",
        "    <tr>\n",
        "      <th>6 </th>\n",
        "      <td>          Natal </td>\n",
        "      <td>   Arena das Dunas </td>\n",
        "      <td> 44.070</td>\n",
        "      <td> 4</td>\n",
        "      <td>   400 milh\u00f5es </td>\n",
        "      <td> 396.571.000 </td>\n",
        "      <td> 958.000</td>\n",
        "    </tr>\n",
        "    <tr>\n",
        "      <th>7 </th>\n",
        "      <td>   Porto Alegre </td>\n",
        "      <td>         Beira-Rio </td>\n",
        "      <td> 47.100</td>\n",
        "      <td> 5</td>\n",
        "      <td>   330 milh\u00f5es </td>\n",
        "      <td>  91.700.000 </td>\n",
        "      <td>   2.219</td>\n",
        "    </tr>\n",
        "    <tr>\n",
        "      <th>8 </th>\n",
        "      <td>         Recife </td>\n",
        "      <td>  Arena Pernambuco </td>\n",
        "      <td> 45.425</td>\n",
        "      <td> 5</td>\n",
        "      <td> 532,6 milh\u00f5es </td>\n",
        "      <td> 400.000.000 </td>\n",
        "      <td>   5.339</td>\n",
        "    </tr>\n",
        "    <tr>\n",
        "      <th>9 </th>\n",
        "      <td> Rio de Janeiro </td>\n",
        "      <td>          Maracan\u00e3 </td>\n",
        "      <td> 78.448</td>\n",
        "      <td> 7</td>\n",
        "      <td>   1,05 bilh\u00e3o </td>\n",
        "      <td> 400.000.000 </td>\n",
        "      <td>   2.422</td>\n",
        "    </tr>\n",
        "    <tr>\n",
        "      <th>10</th>\n",
        "      <td>       Salvador </td>\n",
        "      <td>  Arena Fonte Nova </td>\n",
        "      <td> 54.610</td>\n",
        "      <td> 6</td>\n",
        "      <td> 689,4 milh\u00f5es </td>\n",
        "      <td> 323.629.000 </td>\n",
        "      <td>   3.155</td>\n",
        "    </tr>\n",
        "    <tr>\n",
        "      <th>11</th>\n",
        "      <td>      S\u00e3o Paulo </td>\n",
        "      <td> Arena Corinthians </td>\n",
        "      <td> 67.349</td>\n",
        "      <td> 6</td>\n",
        "      <td>   930 milh\u00f5es </td>\n",
        "      <td> 400.000.000 </td>\n",
        "      <td>   6.217</td>\n",
        "    </tr>\n",
        "  </tbody>\n",
        "</table>\n",
        "</div>"
       ],
       "metadata": {},
       "output_type": "pyout",
       "prompt_number": 49,
       "text": [
        "            CIDADE             EST\u00c1DIO   CAPACIDADE   JOGOS     CUSTO FINAL   \\\n",
        "0   Belo Horizonte            Mineir\u00e3o        62.329       6  666,3 milh\u00f5es    \n",
        "1         Bras\u00edlia      Man\u00e9 Garrincha        72.741       7     1,4 bilh\u00e3o    \n",
        "2           Cuiab\u00e1      Arena Pantanal        44.335       4    570 milh\u00f5es    \n",
        "3         Curitiba    Arena da Baixada        42.247       4  326,7 milh\u00f5es    \n",
        "4        Fortaleza            Castel\u00e3o        63.819       6  518,6 milh\u00f5es    \n",
        "5           Manaus      Arena Amaz\u00f4nia        44.351       4    757 milh\u00f5es    \n",
        "6            Natal     Arena das Dunas        44.070       4    400 milh\u00f5es    \n",
        "7     Porto Alegre           Beira-Rio        47.100       5    330 milh\u00f5es    \n",
        "8           Recife    Arena Pernambuco        45.425       5  532,6 milh\u00f5es    \n",
        "9   Rio de Janeiro            Maracan\u00e3        78.448       7    1,05 bilh\u00e3o    \n",
        "10        Salvador    Arena Fonte Nova        54.610       6  689,4 milh\u00f5es    \n",
        "11       S\u00e3o Paulo   Arena Corinthians        67.349       6    930 milh\u00f5es    \n",
        "\n",
        "          BNDES   P\u00daBLICO ESTADUAIS  \n",
        "0   400.000.000               6.451  \n",
        "1             0               1.176  \n",
        "2   337.900.362             605.000  \n",
        "3   131.168.000               3.002  \n",
        "4   351.545.150               2.005  \n",
        "5   400.000.000             807.000  \n",
        "6   396.571.000             958.000  \n",
        "7    91.700.000               2.219  \n",
        "8   400.000.000               5.339  \n",
        "9   400.000.000               2.422  \n",
        "10  323.629.000               3.155  \n",
        "11  400.000.000               6.217  "
       ]
      }
     ],
     "prompt_number": 49
    },
    {
     "cell_type": "code",
     "collapsed": false,
     "input": [
      "pd.items()"
     ],
     "language": "python",
     "metadata": {},
     "outputs": [
      {
       "metadata": {},
       "output_type": "pyout",
       "prompt_number": 218,
       "text": [
        "[('pr', 4),\n",
        " ('mg', 3),\n",
        " ('ba', 4),\n",
        " ('df', 4),\n",
        " ('sp', 4),\n",
        " ('am', 4),\n",
        " ('ce', 4),\n",
        " ('mt', 4),\n",
        " ('pa', 5),\n",
        " ('pe', 4),\n",
        " ('rn', 4),\n",
        " ('rj', 4)]"
       ]
      }
     ],
     "prompt_number": 218
    },
    {
     "cell_type": "markdown",
     "metadata": {},
     "source": [
      "## Leitura dos jogos finais"
     ]
    },
    {
     "cell_type": "code",
     "collapsed": false,
     "input": [
      "import re\n",
      "\n",
      "cup_finals = open('cup_finals.txt').readlines()\n",
      "\n",
      "final_games_places = []\n",
      "for line in cup_finals:\n",
      "    m = re.match(re.compile(ur'.*@ ([\\w\\s]+).*(\\r\\n)', re.UNICODE), unicode(line.decode('utf8')))\n",
      "    if m:\n",
      "        final_games_places.append(m.group(1).rstrip())\n",
      "\n",
      "        \n",
      "final_games_type = {'oitavas': final_game_places[0:8]\n",
      "                   ,'quartas': final_game_places[8:12]\n",
      "                   ,'semi': final_game_places[12:14]\n",
      "                   ,'terceiro': final_game_places[15]\n",
      "                   ,'final': final_game_places[-1]}"
     ],
     "language": "python",
     "metadata": {},
     "outputs": [],
     "prompt_number": 182
    },
    {
     "cell_type": "markdown",
     "metadata": {},
     "source": [
      "## Leitura dos primeiros jogos"
     ]
    },
    {
     "cell_type": "code",
     "collapsed": false,
     "input": [
      "cup = open('cup.txt').readlines()\n",
      "\n",
      "games_places = []\n",
      "for line in cup:\n",
      "    m = re.match(re.compile(ur'.*@ ([\\w\\s]+).*(\\r\\n)', re.UNICODE), unicode(line.decode('utf8')))\n",
      "    if m:\n",
      "        games_places.append(m.group(1).rstrip())\n",
      "\n",
      "first_games_types = {'abertura': [games_places[0]]\n",
      "                    ,'primeiros': games_places[1:]}"
     ],
     "language": "python",
     "metadata": {},
     "outputs": [],
     "prompt_number": 372
    },
    {
     "cell_type": "markdown",
     "metadata": {},
     "source": [
      "Infelizmente esses dados n\u00e3o est\u00e3o padronizados ent\u00e3o \u00e9 necess\u00e1rio criar um dicion\u00e1rio com as diferentes vers\u00f5es que o nome de um est\u00e1dio est\u00e1 escrito:"
     ]
    },
    {
     "cell_type": "code",
     "collapsed": false,
     "input": [
      "# Primeiro descobrimos os nomes\n",
      "\n",
      "set(games_places)"
     ],
     "language": "python",
     "metadata": {},
     "outputs": [
      {
       "metadata": {},
       "output_type": "pyout",
       "prompt_number": 220,
       "text": [
        "{u'Arena Amaz\\xf4nia',\n",
        " u'Arena Fonte Nova',\n",
        " u'Arena Pantanal',\n",
        " u'Arena Pernambuco',\n",
        " u'Arena da Baixada',\n",
        " u'Arena de S\\xe3o Paulo',\n",
        " u'Belo Horizonte',\n",
        " u'Bras\\xedlia',\n",
        " u'Cuiab\\xe1',\n",
        " u'Curitiba',\n",
        " u'Est\\xe1dio Beira',\n",
        " u'Est\\xe1dio Castel\\xe3o',\n",
        " u'Est\\xe1dio Mineir\\xe3o',\n",
        " u'Est\\xe1dio Nacional Man\\xe9 Garrincha',\n",
        " u'Est\\xe1dio das Dunas',\n",
        " u'Est\\xe1dio do Maracan\\xe3',\n",
        " u'Fortaleza',\n",
        " u'Manaus',\n",
        " u'Natal',\n",
        " u'Porto Alegre',\n",
        " u'Recife',\n",
        " u'Rio de Janeiro',\n",
        " u'Salvador',\n",
        " u'S\\xe3o Paulo'}"
       ]
      }
     ],
     "prompt_number": 220
    },
    {
     "cell_type": "code",
     "collapsed": false,
     "input": [
      "# E criamos o dicion\u00e1rio\n",
      "\n",
      "places= {u'Arena Amaz\\xf4nia': 'am',\n",
      "         u'Arena Fonte Nova': 'ba',\n",
      "         u'Arena Pantanal': 'mt',\n",
      "         u'Arena Pernambuco': 'pe',\n",
      "         u'Arena da Baixada': 'pr', \n",
      "         u'Arena de S\\xe3o Paulo': 'sp',\n",
      "         u'Belo Horizonte': 'pa',\n",
      "         u'Bras\\xedlia': 'df',\n",
      "         u'Cuiab\\xe1': 'mt',\n",
      "         u'Curitiba': 'pr',\n",
      "         u'Est\\xe1dio Beira': 'pa',\n",
      "         u'Est\\xe1dio Castel\\xe3o': 'ce',\n",
      "         u'Est\\xe1dio Mineir\\xe3o': 'mg',\n",
      "         u'Est\\xe1dio Nacional Man\\xe9 Garrincha': 'df',\n",
      "         u'Est\\xe1dio das Dunas': 'rn',\n",
      "         u'Est\\xe1dio do Maracan\\xe3': 'rj',\n",
      "         u'Fortaleza': 'ce',\n",
      "         u'Manaus': 'am',\n",
      "         u'Natal': 'rn',\n",
      "         u'Porto Alegre': 'pa',\n",
      "         u'Recife': 'pe',\n",
      "         u'Rio de Janeiro': 'rj',\n",
      "         u'Salvador': 'ba',\n",
      "         u'S\\xe3o Paulo': 'sp'}"
     ],
     "language": "python",
     "metadata": {},
     "outputs": [],
     "prompt_number": 221
    },
    {
     "cell_type": "code",
     "collapsed": false,
     "input": [
      "first_games_types"
     ],
     "language": "python",
     "metadata": {},
     "outputs": [
      {
       "metadata": {},
       "output_type": "pyout",
       "prompt_number": 373,
       "text": [
        "{'abertura': [u'Arena de S\\xe3o Paulo'],\n",
        " 'primeiros': [u'Est\\xe1dio das Dunas',\n",
        "  u'Est\\xe1dio Castel\\xe3o',\n",
        "  u'Arena Amaz\\xf4nia',\n",
        "  u'Bras\\xedlia',\n",
        "  u'Recife',\n",
        "  u'Arena Fonte Nova',\n",
        "  u'Arena Pantanal',\n",
        "  u'Est\\xe1dio do Maracan\\xe3',\n",
        "  u'Est\\xe1dio Beira',\n",
        "  u'Curitiba',\n",
        "  u'S\\xe3o Paulo',\n",
        "  u'Est\\xe1dio Mineir\\xe3o',\n",
        "  u'Arena Pernambuco',\n",
        "  u'Est\\xe1dio Nacional Man\\xe9 Garrincha',\n",
        "  u'Est\\xe1dio das Dunas',\n",
        "  u'Cuiab\\xe1',\n",
        "  u'Fortaleza',\n",
        "  u'Est\\xe1dio Castel\\xe3o',\n",
        "  u'Arena Amaz\\xf4nia',\n",
        "  u'Arena de S\\xe3o Paulo',\n",
        "  u'Arena Pernambuco',\n",
        "  u'Natal',\n",
        "  u'Belo Horizonte',\n",
        "  u'Est\\xe1dio Nacional Man\\xe9 Garrincha',\n",
        "  u'Est\\xe1dio Beira',\n",
        "  u'Arena Fonte Nova',\n",
        "  u'Arena da Baixada',\n",
        "  u'Manaus',\n",
        "  u'Rio de Janeiro',\n",
        "  u'Est\\xe1dio do Maracan\\xe3',\n",
        "  u'Arena da Baixada',\n",
        "  u'Est\\xe1dio Mineir\\xe3o',\n",
        "  u'Arena Pantanal',\n",
        "  u'Porto Alegre',\n",
        "  u'Salvador',\n",
        "  u'Arena Fonte Nova',\n",
        "  u'Est\\xe1dio das Dunas',\n",
        "  u'Fortaleza',\n",
        "  u'Manaus',\n",
        "  u'Recife',\n",
        "  u'Bras\\xedlia',\n",
        "  u'Est\\xe1dio Mineir\\xe3o',\n",
        "  u'Arena Pantanal',\n",
        "  u'Rio de Janeiro',\n",
        "  u'Porto Alegre',\n",
        "  u'S\\xe3o Paulo',\n",
        "  u'Curitiba']}"
       ]
      }
     ],
     "prompt_number": 373
    },
    {
     "cell_type": "code",
     "collapsed": false,
     "input": [
      "first_games_types_sgl = defaultdict(list)\n",
      "for t, ps in first_games_types.items():\n",
      "    first_games_types_sgl[t] = [places[p] for p in ps]"
     ],
     "language": "python",
     "metadata": {},
     "outputs": [],
     "prompt_number": 384
    },
    {
     "cell_type": "code",
     "collapsed": false,
     "input": [
      "estado_capacidade = {u'am': 44351,\n",
      "                     u'sp': 67349,\n",
      "                     u'mt': 44335,\n",
      "                     u'rn': 44070,\n",
      "                     u'rj': 78448,\n",
      "                     u'mg': 62329,\n",
      "                     u'ce': 63819,\n",
      "                     u'pr': 42247,\n",
      "                     u'pa': 47100,\n",
      "                     u'df': 72741,\n",
      "                     u'ba': 54610,\n",
      "                     u'pe': 45425}"
     ],
     "language": "python",
     "metadata": {},
     "outputs": [],
     "prompt_number": 382
    },
    {
     "cell_type": "code",
     "collapsed": false,
     "input": [
      "final_games_types_sgl = {'final': u'rj',\n",
      "                         'oitavas': [u'mg',\n",
      "                                     u'rj',\n",
      "                                     u'ce',\n",
      "                                     u'rn',\n",
      "                                     u'df',\n",
      "                                     u'pa',\n",
      "                                     u'sp',\n",
      "                                     u'ba'],\n",
      "                         'quartas': [u'ce', u'rj', u'ba', u'df'],\n",
      "                         'semi': [u'mg', u'sp'],\n",
      "                         'terceiro': [u'rj']}"
     ],
     "language": "python",
     "metadata": {},
     "outputs": [],
     "prompt_number": 365
    },
    {
     "cell_type": "code",
     "collapsed": false,
     "input": [
      "colors = pd.read_csv('colors.csv')\n",
      "\n",
      "def calc_stadium(state, game_type):\n",
      "    scolor = colors[colors['Estado'] == state]\n",
      "    sp = 0\n",
      "    \n",
      "    for tipo in ['CAT 1', 'CAT 2', 'CAT 3', 'CAT 4']:\n",
      "        partial = float(scolor[tipo]/scolor['Total'])*precos.irow(game_type)[tipo]*estado_capacidade[state]\n",
      "        sp += partial\n",
      "    \n",
      "    return sp\n",
      "    "
     ],
     "language": "python",
     "metadata": {},
     "outputs": [],
     "prompt_number": 378
    },
    {
     "cell_type": "code",
     "collapsed": false,
     "input": [
      "# Calcula jogo de abertura\n",
      "total_abertura = calc_stadium('sp', 0)\n",
      "\n",
      "# Calcula jogos da primeira etapa\n",
      "total_primeiros = 0\n",
      "for s in first_games_types_sgl['primeiros']:\n",
      "    total_primeiros += calc_stadium(s, 1)\n",
      "\n",
      "# Calcula jogos das oitavas\n",
      "total_oitavas = 0\n",
      "for s in final_games_types_sgl['oitavas']:\n",
      "    total_oitavas += calc_stadium(s, 2)\n",
      "\n",
      "# Calcula jogos das quartas\n",
      "total_quartas = 0\n",
      "for s in final_games_types_sgl['quartas']:\n",
      "    total_quartas += calc_stadium(s, 3)\n",
      "\n",
      "# Calcula jogos das semifinais\n",
      "total_semi = 0\n",
      "for s in final_games_types_sgl['semi']:\n",
      "    total_semi += calc_stadium(s, 4)\n",
      "\n",
      "# Calcula disputa pelo terceiro\n",
      "total_terceiro = 0\n",
      "for s in final_games_types_sgl['terceiro']:\n",
      "    total_terceiro += calc_stadium(s, 5)\n",
      "\n",
      "# Calcula final\n",
      "total_final = calc_stadium('rj', 6)"
     ],
     "language": "python",
     "metadata": {},
     "outputs": [],
     "prompt_number": 385
    },
    {
     "cell_type": "code",
     "collapsed": false,
     "input": [
      "total = total_abertura + total_primeiros + total_oitavas + total_quartas + total_semi + total_terceiro + total_final\n",
      "print total"
     ],
     "language": "python",
     "metadata": {},
     "outputs": [
      {
       "output_type": "stream",
       "stream": "stdout",
       "text": [
        "1199202983.03\n"
       ]
      }
     ],
     "prompt_number": 388
    }
   ],
   "metadata": {}
  }
 ]
}