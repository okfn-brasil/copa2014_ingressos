{
 "metadata": {
  "name": "",
  "signature": "sha256:009539c7b1bfa46f62de6af2b11509bcc84bdd5c861ed373208ad37eef4a732c"
 },
 "nbformat": 3,
 "nbformat_minor": 0,
 "worksheets": [
  {
   "cells": [
    {
     "cell_type": "code",
     "collapsed": false,
     "input": [
      "import json\n",
      "import pandas as pd"
     ],
     "language": "python",
     "metadata": {},
     "outputs": [
      {
       "output_type": "stream",
       "stream": "stderr",
       "text": [
        "/home/walrus/.virtualenvs/py/local/lib/python2.7/site-packages/pandas/io/excel.py:626: UserWarning: Installed openpyxl is not supported at this time. Use >=1.6.1 and <2.0.0.\n",
        "  .format(openpyxl_compat.start_ver, openpyxl_compat.stop_ver))\n"
       ]
      }
     ],
     "prompt_number": 1
    },
    {
     "cell_type": "markdown",
     "metadata": {},
     "source": [
      "# A lista dos jogos\n",
      "\n",
      "Primeiro precisaremos da lista de jogos. O local mais f\u00e1cil que encontrei foi:\n",
      "\n",
      "http://www.kimonolabs.com/worldcup/docs#ListMatches\n",
      "\n",
      "Mas existem diversos outros locais pra obter isso. Neste site basta usar o comando:\n",
      "\n",
      "    curl --include --request GET \"http://worldcup.kimonolabs.com/api/matches?apikey=API_KEY\" > games.json\n",
      "    \n",
      "Substituindo API_KEY pela chave que o chave oferece gratuitamente ap\u00f3s criar uma conta. Baixado o arquivo, abra-o num editor e remova todo conte\u00fado que n\u00e3o faz parte do json, ou seja, todo conte\u00fado que vem antes do primeiro '[{'.\n",
      "\n",
      "Agora carregamos o json para um dicion\u00e1rio do Python usando a biblioteca json:"
     ]
    },
    {
     "cell_type": "code",
     "collapsed": false,
     "input": [
      "games_file = open('games.json')\n",
      "gjs = json.load(games_file)"
     ],
     "language": "python",
     "metadata": {},
     "outputs": [],
     "prompt_number": 2
    },
    {
     "cell_type": "markdown",
     "metadata": {},
     "source": [
      "Criamos um dicion\u00e1rio a partir desse dicion\u00e1rio indexado pelo nome do est\u00e1dio (_game['venue']_) e salvamos quando o jogo ocorreu (_game['startTime']_) caso queiramos filtrar os jogos at\u00e9 um determinado momento."
     ]
    },
    {
     "cell_type": "code",
     "collapsed": false,
     "input": [
      "hist_games = {}\n",
      "for game in gjs:\n",
      "    if not hist_games.has_key(game['venue']):\n",
      "        hist_games[game['venue']] = []\n",
      "    hist_games[game['venue']] += [game['startTime']]"
     ],
     "language": "python",
     "metadata": {},
     "outputs": [],
     "prompt_number": 3
    },
    {
     "cell_type": "markdown",
     "metadata": {},
     "source": [
      "# N\u00famero de jogos por est\u00e1dio"
     ]
    },
    {
     "cell_type": "code",
     "collapsed": false,
     "input": [
      "estadio_games_num = {e: len(gs) for e, gs in hist_games.items()}"
     ],
     "language": "python",
     "metadata": {},
     "outputs": [],
     "prompt_number": 4
    },
    {
     "cell_type": "code",
     "collapsed": false,
     "input": [
      "estadio_games_num"
     ],
     "language": "python",
     "metadata": {},
     "outputs": [
      {
       "metadata": {},
       "output_type": "pyout",
       "prompt_number": 5,
       "text": [
        "{u'Arena Amaz\\xf4nia (Manaus, Amazonas)': 4,\n",
        " u'Arena Corinthians (S\\xe3o Paulo, S\\xe3o Paulo)': 4,\n",
        " u'Arena Pantanal (Cuiab\\xe1, Mato Grosso)': 4,\n",
        " u'Arena das Dunas (Natal, Rio Grande do Norte)': 4,\n",
        " u'Estadio Jornalista M\\xe1rio Filho (Maracan\\xe3) (Rio de Janeiro, Rio de Janeiro)': 5,\n",
        " u'Est\\xe1dio Governador Magalh\\xe3es Pinto (Belo Horizonte, Minas Gerais)': 5,\n",
        " u'Est\\xe1dio Governador Pl\\xe1cido Aderaldo Castelo (Fortaleza, Cear\\xe1)': 5,\n",
        " u'Est\\xe1dio Joaquim Am\\xe9rico Guimar\\xe3es (Curitiba, Paran\\xe1)': 4,\n",
        " u'Est\\xe1dio Jos\\xe9 Pinheiro Borba (Beira-Rio) (Porto Alegre, Rio Grande do Sul)': 4,\n",
        " u'Est\\xe1dio Nacional de Bras\\xedlia (Bras\\xedlia, Distrito Federal)': 4,\n",
        " u'Itaipava Arena Fonte Nova (Salvador, Bahia)': 4,\n",
        " u'Itaipava Arena Pernambuco (Recife, Pernambuco)': 5}"
       ]
      }
     ],
     "prompt_number": 5
    },
    {
     "cell_type": "markdown",
     "metadata": {},
     "source": [
      "Os n\u00fameros acima est\u00e3o incorretos, por outras fontes vimos que os valores corretos s\u00e3o:"
     ]
    },
    {
     "cell_type": "code",
     "collapsed": false,
     "input": [
      "estadio_games_num[u'Est\\xe1dio Governador Magalh\\xe3es Pinto (Belo Horizonte, Minas Gerais)'] = 6\n",
      "estadio_games_num[u'Est\\xe1dio Nacional de Bras\\xedlia (Bras\\xedlia, Distrito Federal)'] = 7\n",
      "estadio_games_num[u'Est\\xe1dio Governador Pl\\xe1cido Aderaldo Castelo (Fortaleza, Cear\\xe1)'] = 6\n",
      "estadio_games_num[u'Est\\xe1dio Jos\\xe9 Pinheiro Borba (Beira-Rio) (Porto Alegre, Rio Grande do Sul)'] = 5\n",
      "estadio_games_num[u'Estadio Jornalista M\\xe1rio Filho (Maracan\\xe3) (Rio de Janeiro, Rio de Janeiro)'] = 7\n",
      "estadio_games_num[u'Itaipava Arena Fonte Nova (Salvador, Bahia)'] = 6\n",
      "estadio_games_num[u'Arena Corinthians (S\\xe3o Paulo, S\\xe3o Paulo)'] = 6"
     ],
     "language": "python",
     "metadata": {},
     "outputs": [],
     "prompt_number": 8
    },
    {
     "cell_type": "markdown",
     "metadata": {},
     "source": [
      "# Total de partidas"
     ]
    },
    {
     "cell_type": "code",
     "collapsed": false,
     "input": [
      "sum(estadio_games_num.values())"
     ],
     "language": "python",
     "metadata": {},
     "outputs": [
      {
       "metadata": {},
       "output_type": "pyout",
       "prompt_number": 7,
       "text": [
        "64"
       ]
      }
     ],
     "prompt_number": 7
    },
    {
     "cell_type": "markdown",
     "metadata": {},
     "source": [
      "# Capacidade de pessoas por est\u00e1dio"
     ]
    },
    {
     "cell_type": "code",
     "collapsed": false,
     "input": [
      "estadio_capacidade = {u'Arena Amaz\\xf4nia (Manaus, Amazonas)': 44351\n",
      "                     ,u'Arena Corinthians (S\\xe3o Paulo, S\\xe3o Paulo)': 67349\n",
      "                     ,u'Arena Pantanal (Cuiab\\xe1, Mato Grosso)': 44335\n",
      "                     ,u'Arena das Dunas (Natal, Rio Grande do Norte)': 44070\n",
      "                     ,u'Estadio Jornalista M\\xe1rio Filho (Maracan\\xe3) (Rio de Janeiro, Rio de Janeiro)': 78448\n",
      "                     ,u'Est\\xe1dio Governador Magalh\\xe3es Pinto (Belo Horizonte, Minas Gerais)': 62329\n",
      "                     ,u'Est\\xe1dio Governador Pl\\xe1cido Aderaldo Castelo (Fortaleza, Cear\\xe1)': 63819\n",
      "                     ,u'Est\\xe1dio Joaquim Am\\xe9rico Guimar\\xe3es (Curitiba, Paran\\xe1)': 42247\n",
      "                     ,u'Est\\xe1dio Jos\\xe9 Pinheiro Borba (Beira-Rio) (Porto Alegre, Rio Grande do Sul)': 47100\n",
      "                     ,u'Est\\xe1dio Nacional de Bras\\xedlia (Bras\\xedlia, Distrito Federal)': 72741\n",
      "                     ,u'Itaipava Arena Fonte Nova (Salvador, Bahia)': 54610\n",
      "                     ,u'Itaipava Arena Pernambuco (Recife, Pernambuco)': 45425\n",
      "                     }"
     ],
     "language": "python",
     "metadata": {},
     "outputs": [],
     "prompt_number": 9
    },
    {
     "cell_type": "markdown",
     "metadata": {},
     "source": [
      "# Total de pessoas que poder\u00e3o ir com um ingresso na copa"
     ]
    },
    {
     "cell_type": "code",
     "collapsed": false,
     "input": [
      "sum([estadio_capacidade[estadio]*num_jogos for estadio, num_jogos in estadio_games_num.items()])"
     ],
     "language": "python",
     "metadata": {},
     "outputs": [
      {
       "metadata": {},
       "output_type": "pyout",
       "prompt_number": 10,
       "text": [
        "3709602"
       ]
      }
     ],
     "prompt_number": 10
    },
    {
     "cell_type": "markdown",
     "metadata": {},
     "source": [
      "# Pre\u00e7o por categoria\n",
      "\n",
      "Copiei e colei do pr\u00f3prio site da FIFA os pre\u00e7os por categoria:\n",
      "\n",
      "http://pt.fifa.com/worldcup/organisation/ticketing/prices-matches/\n",
      "\n",
      "    Partida\tCAT 1\tCAT 2,\tCAT 3\tCAT 4\tCAT 4 (Descontados)\tINGRESSOS PARA PESSOAS COM DEFICI\u00caNCIA\n",
      "    Partida de abertura (N\u00b01)\tR$ 990\tR$ 660\tR$ 440\tR$ 160\tR$ 80\tR$ 440\n",
      "    Fase de grupos (N\u00b02 a 48)\tR$ 350\tR$ 270\tR$ 180\tR$ 60\tR$ 30\tR$ 180\n",
      "    Oitavas de final (N\u00b049 a 56)\tR$ 440\tR$ 330\tR$ 220\tR$ 110\tR$ 55\tR$ 220\n",
      "    Quartas de final (N\u00b057 a 60)\tR$ 660\tR$ 440\tR$ 330\tR$ 170\tR$ 85\tR$ 330\n",
      "    Semifinais (N\u00b061 e 62)\tR$ 1,320\tR$ 880\tR$ 550\tR$ 220\tR$ 110\tR$ 550\n",
      "    Decis\u00e3o do terceiro lugar (N\u00b063)\tR$ 660\tR$ 440\tR$ 330\tR$ 170\tR$ 85\tR$ 330\n",
      "    Final (N\u00b0 64)\tR$ 1,980\tR$ 1,320\tR$ 880\tR$ 330\tR$ 165\tR$ 880\n",
      "\n",
      "E depois salvei isso num arquivo tsv (an\u00e1logo ao csv, mas ao inv\u00e9s das colunas estarem separadas por ',' (comma) est\u00e3o por tabs)"
     ]
    },
    {
     "cell_type": "code",
     "collapsed": false,
     "input": [
      "%%writefile preco.tsv\n",
      "Partida\tCAT 1\tCAT 2\tCAT 3\tCAT 4\tCAT 4 (Descontados)\tINGRESSOS PARA PESSOAS COM DEFICI\u00caNCIA\n",
      "Partida de abertura (N\u00b01)\tR$ 990\tR$ 660\tR$ 440\tR$ 160\tR$ 80\tR$ 440\n",
      "Fase de grupos (N\u00b02 a 48)\tR$ 350\tR$ 270\tR$ 180\tR$ 60\tR$ 30\tR$ 180\n",
      "Oitavas de final (N\u00b049 a 56)\tR$ 440\tR$ 330\tR$ 220\tR$ 110\tR$ 55\tR$ 220\n",
      "Quartas de final (N\u00b057 a 60)\tR$ 660\tR$ 440\tR$ 330\tR$ 170\tR$ 85\tR$ 330\n",
      "Semifinais (N\u00b061 e 62)\tR$ 1,320\tR$ 880\tR$ 550\tR$ 220\tR$ 110\tR$ 550\n",
      "Decis\u00e3o do terceiro lugar (N\u00b063)\tR$ 660\tR$ 440\tR$ 330\tR$ 170\tR$ 85\tR$ 330\n",
      "Final (N\u00b0 64)\tR$ 1,980\tR$ 1,320\tR$ 880\tR$ 330\tR$ 165\tR$ 880"
     ],
     "language": "python",
     "metadata": {},
     "outputs": [
      {
       "output_type": "stream",
       "stream": "stdout",
       "text": [
        "Overwriting preco.tsv\n"
       ]
      }
     ],
     "prompt_number": 11
    },
    {
     "cell_type": "code",
     "collapsed": false,
     "input": [
      "!cat preco.tsv"
     ],
     "language": "python",
     "metadata": {},
     "outputs": [
      {
       "output_type": "stream",
       "stream": "stdout",
       "text": [
        "Partida\tCAT 1\tCAT 2\tCAT 3\tCAT 4\tCAT 4 (Descontados)\tINGRESSOS PARA PESSOAS COM DEFICI\u00caNCIA\r\n",
        "Partida de abertura (N\u00b01)\tR$ 990\tR$ 660\tR$ 440\tR$ 160\tR$ 80\tR$ 440\r\n",
        "Fase de grupos (N\u00b02 a 48)\tR$ 350\tR$ 270\tR$ 180\tR$ 60\tR$ 30\tR$ 180\r\n",
        "Oitavas de final (N\u00b049 a 56)\tR$ 440\tR$ 330\tR$ 220\tR$ 110\tR$ 55\tR$ 220\r\n",
        "Quartas de final (N\u00b057 a 60)\tR$ 660\tR$ 440\tR$ 330\tR$ 170\tR$ 85\tR$ 330\r\n",
        "Semifinais (N\u00b061 e 62)\tR$ 1,320\tR$ 880\tR$ 550\tR$ 220\tR$ 110\tR$ 550\r\n",
        "Decis\u00e3o do terceiro lugar (N\u00b063)\tR$ 660\tR$ 440\tR$ 330\tR$ 170\tR$ 85\tR$ 330\r\n",
        "Final (N\u00b0 64)\tR$ 1,980\tR$ 1,320\tR$ 880\tR$ 330\tR$ 165\tR$ 880"
       ]
      }
     ],
     "prompt_number": 12
    },
    {
     "cell_type": "code",
     "collapsed": false,
     "input": [
      "precos = pd.read_csv('preco.tsv', sep='\\t')\n",
      "precos"
     ],
     "language": "python",
     "metadata": {},
     "outputs": [
      {
       "html": [
        "<div style=\"max-height:1000px;max-width:1500px;overflow:auto;\">\n",
        "<table border=\"1\" class=\"dataframe\">\n",
        "  <thead>\n",
        "    <tr style=\"text-align: right;\">\n",
        "      <th></th>\n",
        "      <th>Partida</th>\n",
        "      <th>CAT 1</th>\n",
        "      <th>CAT 2</th>\n",
        "      <th>CAT 3</th>\n",
        "      <th>CAT 4</th>\n",
        "      <th>CAT 4 (Descontados)</th>\n",
        "      <th>INGRESSOS PARA PESSOAS COM DEFICI\u00caNCIA</th>\n",
        "    </tr>\n",
        "  </thead>\n",
        "  <tbody>\n",
        "    <tr>\n",
        "      <th>0</th>\n",
        "      <td>        Partida de abertura (N\u00b01)</td>\n",
        "      <td>   R$ 990</td>\n",
        "      <td>   R$ 660</td>\n",
        "      <td> R$ 440</td>\n",
        "      <td> R$ 160</td>\n",
        "      <td>  R$ 80</td>\n",
        "      <td> R$ 440</td>\n",
        "    </tr>\n",
        "    <tr>\n",
        "      <th>1</th>\n",
        "      <td>        Fase de grupos (N\u00b02 a 48)</td>\n",
        "      <td>   R$ 350</td>\n",
        "      <td>   R$ 270</td>\n",
        "      <td> R$ 180</td>\n",
        "      <td>  R$ 60</td>\n",
        "      <td>  R$ 30</td>\n",
        "      <td> R$ 180</td>\n",
        "    </tr>\n",
        "    <tr>\n",
        "      <th>2</th>\n",
        "      <td>     Oitavas de final (N\u00b049 a 56)</td>\n",
        "      <td>   R$ 440</td>\n",
        "      <td>   R$ 330</td>\n",
        "      <td> R$ 220</td>\n",
        "      <td> R$ 110</td>\n",
        "      <td>  R$ 55</td>\n",
        "      <td> R$ 220</td>\n",
        "    </tr>\n",
        "    <tr>\n",
        "      <th>3</th>\n",
        "      <td>     Quartas de final (N\u00b057 a 60)</td>\n",
        "      <td>   R$ 660</td>\n",
        "      <td>   R$ 440</td>\n",
        "      <td> R$ 330</td>\n",
        "      <td> R$ 170</td>\n",
        "      <td>  R$ 85</td>\n",
        "      <td> R$ 330</td>\n",
        "    </tr>\n",
        "    <tr>\n",
        "      <th>4</th>\n",
        "      <td>           Semifinais (N\u00b061 e 62)</td>\n",
        "      <td> R$ 1,320</td>\n",
        "      <td>   R$ 880</td>\n",
        "      <td> R$ 550</td>\n",
        "      <td> R$ 220</td>\n",
        "      <td> R$ 110</td>\n",
        "      <td> R$ 550</td>\n",
        "    </tr>\n",
        "    <tr>\n",
        "      <th>5</th>\n",
        "      <td> Decis\u00e3o do terceiro lugar (N\u00b063)</td>\n",
        "      <td>   R$ 660</td>\n",
        "      <td>   R$ 440</td>\n",
        "      <td> R$ 330</td>\n",
        "      <td> R$ 170</td>\n",
        "      <td>  R$ 85</td>\n",
        "      <td> R$ 330</td>\n",
        "    </tr>\n",
        "    <tr>\n",
        "      <th>6</th>\n",
        "      <td>                    Final (N\u00b0 64)</td>\n",
        "      <td> R$ 1,980</td>\n",
        "      <td> R$ 1,320</td>\n",
        "      <td> R$ 880</td>\n",
        "      <td> R$ 330</td>\n",
        "      <td> R$ 165</td>\n",
        "      <td> R$ 880</td>\n",
        "    </tr>\n",
        "  </tbody>\n",
        "</table>\n",
        "</div>"
       ],
       "metadata": {},
       "output_type": "pyout",
       "prompt_number": 39,
       "text": [
        "                            Partida     CAT 1     CAT 2   CAT 3   CAT 4  \\\n",
        "0         Partida de abertura (N\u00b01)    R$ 990    R$ 660  R$ 440  R$ 160   \n",
        "1         Fase de grupos (N\u00b02 a 48)    R$ 350    R$ 270  R$ 180   R$ 60   \n",
        "2      Oitavas de final (N\u00b049 a 56)    R$ 440    R$ 330  R$ 220  R$ 110   \n",
        "3      Quartas de final (N\u00b057 a 60)    R$ 660    R$ 440  R$ 330  R$ 170   \n",
        "4            Semifinais (N\u00b061 e 62)  R$ 1,320    R$ 880  R$ 550  R$ 220   \n",
        "5  Decis\u00e3o do terceiro lugar (N\u00b063)    R$ 660    R$ 440  R$ 330  R$ 170   \n",
        "6                     Final (N\u00b0 64)  R$ 1,980  R$ 1,320  R$ 880  R$ 330   \n",
        "\n",
        "  CAT 4 (Descontados) INGRESSOS PARA PESSOAS COM DEFICI\u00caNCIA  \n",
        "0               R$ 80                                 R$ 440  \n",
        "1               R$ 30                                 R$ 180  \n",
        "2               R$ 55                                 R$ 220  \n",
        "3               R$ 85                                 R$ 330  \n",
        "4              R$ 110                                 R$ 550  \n",
        "5               R$ 85                                 R$ 330  \n",
        "6              R$ 165                                 R$ 880  "
       ]
      }
     ],
     "prompt_number": 39
    },
    {
     "cell_type": "code",
     "collapsed": false,
     "input": [
      "for categoria in precos.columns[1:7]:\n",
      "    precos[categoria] = precos[categoria].map(lambda x: float(x[3:].replace(',','')))\n",
      "\n",
      "precos"
     ],
     "language": "python",
     "metadata": {},
     "outputs": [
      {
       "html": [
        "<div style=\"max-height:1000px;max-width:1500px;overflow:auto;\">\n",
        "<table border=\"1\" class=\"dataframe\">\n",
        "  <thead>\n",
        "    <tr style=\"text-align: right;\">\n",
        "      <th></th>\n",
        "      <th>Partida</th>\n",
        "      <th>CAT 1</th>\n",
        "      <th>CAT 2</th>\n",
        "      <th>CAT 3</th>\n",
        "      <th>CAT 4</th>\n",
        "      <th>CAT 4 (Descontados)</th>\n",
        "      <th>INGRESSOS PARA PESSOAS COM DEFICI\u00caNCIA</th>\n",
        "    </tr>\n",
        "  </thead>\n",
        "  <tbody>\n",
        "    <tr>\n",
        "      <th>0</th>\n",
        "      <td>        Partida de abertura (N\u00b01)</td>\n",
        "      <td>  990</td>\n",
        "      <td>  660</td>\n",
        "      <td> 440</td>\n",
        "      <td> 160</td>\n",
        "      <td>  80</td>\n",
        "      <td> 440</td>\n",
        "    </tr>\n",
        "    <tr>\n",
        "      <th>1</th>\n",
        "      <td>        Fase de grupos (N\u00b02 a 48)</td>\n",
        "      <td>  350</td>\n",
        "      <td>  270</td>\n",
        "      <td> 180</td>\n",
        "      <td>  60</td>\n",
        "      <td>  30</td>\n",
        "      <td> 180</td>\n",
        "    </tr>\n",
        "    <tr>\n",
        "      <th>2</th>\n",
        "      <td>     Oitavas de final (N\u00b049 a 56)</td>\n",
        "      <td>  440</td>\n",
        "      <td>  330</td>\n",
        "      <td> 220</td>\n",
        "      <td> 110</td>\n",
        "      <td>  55</td>\n",
        "      <td> 220</td>\n",
        "    </tr>\n",
        "    <tr>\n",
        "      <th>3</th>\n",
        "      <td>     Quartas de final (N\u00b057 a 60)</td>\n",
        "      <td>  660</td>\n",
        "      <td>  440</td>\n",
        "      <td> 330</td>\n",
        "      <td> 170</td>\n",
        "      <td>  85</td>\n",
        "      <td> 330</td>\n",
        "    </tr>\n",
        "    <tr>\n",
        "      <th>4</th>\n",
        "      <td>           Semifinais (N\u00b061 e 62)</td>\n",
        "      <td> 1320</td>\n",
        "      <td>  880</td>\n",
        "      <td> 550</td>\n",
        "      <td> 220</td>\n",
        "      <td> 110</td>\n",
        "      <td> 550</td>\n",
        "    </tr>\n",
        "    <tr>\n",
        "      <th>5</th>\n",
        "      <td> Decis\u00e3o do terceiro lugar (N\u00b063)</td>\n",
        "      <td>  660</td>\n",
        "      <td>  440</td>\n",
        "      <td> 330</td>\n",
        "      <td> 170</td>\n",
        "      <td>  85</td>\n",
        "      <td> 330</td>\n",
        "    </tr>\n",
        "    <tr>\n",
        "      <th>6</th>\n",
        "      <td>                    Final (N\u00b0 64)</td>\n",
        "      <td> 1980</td>\n",
        "      <td> 1320</td>\n",
        "      <td> 880</td>\n",
        "      <td> 330</td>\n",
        "      <td> 165</td>\n",
        "      <td> 880</td>\n",
        "    </tr>\n",
        "  </tbody>\n",
        "</table>\n",
        "</div>"
       ],
       "metadata": {},
       "output_type": "pyout",
       "prompt_number": 40,
       "text": [
        "                            Partida  CAT 1  CAT 2  CAT 3  CAT 4  \\\n",
        "0         Partida de abertura (N\u00b01)    990    660    440    160   \n",
        "1         Fase de grupos (N\u00b02 a 48)    350    270    180     60   \n",
        "2      Oitavas de final (N\u00b049 a 56)    440    330    220    110   \n",
        "3      Quartas de final (N\u00b057 a 60)    660    440    330    170   \n",
        "4            Semifinais (N\u00b061 e 62)   1320    880    550    220   \n",
        "5  Decis\u00e3o do terceiro lugar (N\u00b063)    660    440    330    170   \n",
        "6                     Final (N\u00b0 64)   1980   1320    880    330   \n",
        "\n",
        "   CAT 4 (Descontados)  INGRESSOS PARA PESSOAS COM DEFICI\u00caNCIA  \n",
        "0                   80                                     440  \n",
        "1                   30                                     180  \n",
        "2                   55                                     220  \n",
        "3                   85                                     330  \n",
        "4                  110                                     550  \n",
        "5                   85                                     330  \n",
        "6                  165                                     880  "
       ]
      }
     ],
     "prompt_number": 40
    },
    {
     "cell_type": "code",
     "collapsed": false,
     "input": [
      "precos.to_csv('precos.csv', index=False)\n",
      "!cat precos.csv"
     ],
     "language": "python",
     "metadata": {},
     "outputs": [
      {
       "output_type": "stream",
       "stream": "stdout",
       "text": [
        "Partida,CAT 1,CAT 2,CAT 3,CAT 4,CAT 4 (Descontados),INGRESSOS PARA PESSOAS COM DEFICI\u00caNCIA\r\n",
        "Partida de abertura (N\u00b01),990.0,660.0,440.0,160.0,80.0,440.0\r\n",
        "Fase de grupos (N\u00b02 a 48),350.0,270.0,180.0,60.0,30.0,180.0\r\n",
        "Oitavas de final (N\u00b049 a 56),440.0,330.0,220.0,110.0,55.0,220.0\r\n",
        "Quartas de final (N\u00b057 a 60),660.0,440.0,330.0,170.0,85.0,330.0\r\n",
        "Semifinais (N\u00b061 e 62),1320.0,880.0,550.0,220.0,110.0,550.0\r\n",
        "Decis\u00e3o do terceiro lugar (N\u00b063),660.0,440.0,330.0,170.0,85.0,330.0\r\n",
        "Final (N\u00b0 64),1980.0,1320.0,880.0,330.0,165.0,880.0\r\n"
       ]
      }
     ],
     "prompt_number": 45
    },
    {
     "cell_type": "markdown",
     "metadata": {},
     "source": [
      "# Gr\u00e1fico do total por cidade"
     ]
    },
    {
     "cell_type": "code",
     "collapsed": false,
     "input": [
      "l = np.array([[estadio, estadio_capacidade[estadio]*num_jogos] for estadio, num_jogos in estadio_games_num.items()])"
     ],
     "language": "python",
     "metadata": {},
     "outputs": [],
     "prompt_number": 41
    },
    {
     "cell_type": "code",
     "collapsed": false,
     "input": [
      "bar(range(l.shape[0]),map(float, l[:,1]))"
     ],
     "language": "python",
     "metadata": {},
     "outputs": [
      {
       "metadata": {},
       "output_type": "pyout",
       "prompt_number": 42,
       "text": [
        "<Container object of 12 artists>"
       ]
      },
      {
       "metadata": {},
       "output_type": "display_data",
       "png": "[encoded data removed]",
       "text": [
        "<matplotlib.figure.Figure at 0x59233d0>"
       ]
      }
     ],
     "prompt_number": 42
    },
    {
     "cell_type": "code",
     "collapsed": false,
     "input": [],
     "language": "python",
     "metadata": {},
     "outputs": []
    }
   ],
   "metadata": {}
  }
 ]
}