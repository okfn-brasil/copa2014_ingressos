{
 "metadata": {
  "name": "",
  "signature": "sha256:b60ac98791dcd88420e08876444fdbea90306adaa0e520eb89ea4703ec62ed1e"
 },
 "nbformat": 3,
 "nbformat_minor": 0,
 "worksheets": [
  {
   "cells": [
    {
     "cell_type": "code",
     "collapsed": false,
     "input": [
      "%%writefile count_colors.py\n",
      "from PIL import Image\n",
      "from collections import defaultdict\n",
      "\n",
      "category_color = {(226, 7, 135): 'CAT 1'\n",
      "                 ,(143, 82, 161): 'CAT 2' \n",
      "                 ,(246, 139, 31): 'CAT 3'\n",
      "                 ,(57, 181, 74): 'CAT 4'\n",
      "                 ,(209, 197, 204): 'Cortesia'\n",
      "                 ,(35, 31, 32): 'Su\u00edtes'\n",
      "                 }\n",
      "\n",
      "def count_colors(image_file='./imagem_estadios/sp.png'):\n",
      "    im = Image.open(image_file)\n",
      "    by_color = defaultdict(int)\n",
      "    for pixel in im.getdata():\n",
      "        if category_color.has_key(pixel):\n",
      "            by_color[category_color[pixel]] += 1\n",
      "    return by_color\n",
      "\n",
      "stadium_images = !ls ./imagem_estadios/*png\n",
      "stadium_colors = {si: count_colors(si) for si in stadium_images}\n",
      "stadium_colors"
     ],
     "language": "python",
     "metadata": {},
     "outputs": [
      {
       "output_type": "stream",
       "stream": "stdout",
       "text": [
        "Writing count_colors.py\n"
       ]
      }
     ],
     "prompt_number": 19
    },
    {
     "cell_type": "code",
     "collapsed": false,
     "input": [
      "!ls imagem_estadios/"
     ],
     "language": "python",
     "metadata": {},
     "outputs": [
      {
       "output_type": "stream",
       "stream": "stdout",
       "text": [
        "am.png\tba.png\tbh.png\tce.png\tdf.png\tmt.png\tpa.png\tpe.png\tpr.png\trj.png\trn.png\tsp.png\r\n"
       ]
      }
     ],
     "prompt_number": 20
    },
    {
     "cell_type": "code",
     "collapsed": false,
     "input": [],
     "language": "python",
     "metadata": {},
     "outputs": []
    }
   ],
   "metadata": {}
  }
 ]
}