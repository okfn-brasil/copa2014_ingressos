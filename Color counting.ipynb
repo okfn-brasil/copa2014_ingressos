{
 "metadata": {
  "name": "",
  "signature": "sha256:70d64b433a14e8ed53e6f3cabf321868b76c3fc82467bbb5f7546c591cc3ce01"
 },
 "nbformat": 3,
 "nbformat_minor": 0,
 "worksheets": [
  {
   "cells": [
    {
     "cell_type": "code",
     "collapsed": false,
     "input": [
      "%%writefile count_colors.py\n",
      "from PIL import Image\n",
      "from collections import defaultdict\n",
      "\n",
      "category_color = {(226, 7, 135): 'CAT 1'\n",
      "                 ,(143, 82, 161): 'CAT 2' \n",
      "                 ,(246, 139, 31): 'CAT 3'\n",
      "                 ,(57, 181, 74): 'CAT 4'\n",
      "                 ,(209, 197, 204): 'Cortesia'\n",
      "                 ,(35, 31, 32): 'Su\u00edtes'\n",
      "                 }\n",
      "\n",
      "def count_colors(image_file='./imagem_estadios/sp.png'):\n",
      "    im = Image.open(image_file)\n",
      "    by_color = defaultdict(int)\n",
      "    for pixel in im.getdata():\n",
      "        if category_color.has_key(pixel):\n",
      "            by_color[category_color[pixel]] += 1\n",
      "    return by_color\n",
      "\n",
      "stadium_images = !ls ./imagem_estadios/*png\n",
      "stadium_colors = {si: count_colors(si) for si in stadium_images}\n",
      "stadium_colors"
     ],
     "language": "python",
     "metadata": {},
     "outputs": [
      {
       "output_type": "stream",
       "stream": "stdout",
       "text": [
        "Writing count_colors.py\n"
       ]
      }
     ],
     "prompt_number": 19
    }
   ],
   "metadata": {}
  }
 ]
}